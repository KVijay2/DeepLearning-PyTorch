{
  "nbformat": 4,
  "nbformat_minor": 0,
  "metadata": {
    "colab": {
      "provenance": [],
      "gpuType": "T4",
      "authorship_tag": "ABX9TyNDC2+kKKImQ/AT8gCWcsfN",
      "include_colab_link": true
    },
    "kernelspec": {
      "name": "python3",
      "display_name": "Python 3"
    },
    "language_info": {
      "name": "python"
    },
    "accelerator": "GPU"
  },
  "cells": [
    {
      "cell_type": "markdown",
      "metadata": {
        "id": "view-in-github",
        "colab_type": "text"
      },
      "source": [
        "<a href=\"https://colab.research.google.com/github/KVijay2/DeepLearning-PyTorch/blob/main/deepLearningTensorflow.ipynb\" target=\"_parent\"><img src=\"https://colab.research.google.com/assets/colab-badge.svg\" alt=\"Open In Colab\"/></a>"
      ]
    },
    {
      "cell_type": "code",
      "execution_count": null,
      "metadata": {
        "colab": {
          "base_uri": "https://localhost:8080/"
        },
        "id": "hKlP612BdB_B",
        "outputId": "d66dcbda-a96b-4b66-a8ac-346ede8d1df0"
      },
      "outputs": [
        {
          "output_type": "execute_result",
          "data": {
            "text/plain": [
              "4"
            ]
          },
          "metadata": {},
          "execution_count": 1
        }
      ],
      "source": [
        "2+2"
      ]
    },
    {
      "cell_type": "code",
      "source": [
        "import torch\n",
        "import numpy as np"
      ],
      "metadata": {
        "id": "IVqnX1vueA59"
      },
      "execution_count": null,
      "outputs": []
    },
    {
      "cell_type": "code",
      "source": [
        "np1 = np.random.randint(0,10, size=(5, 5))\n",
        "np1"
      ],
      "metadata": {
        "id": "lRC_zItKdzuk",
        "colab": {
          "base_uri": "https://localhost:8080/"
        },
        "outputId": "e075d345-920c-4f3b-f7f8-2d2d5b57fd38"
      },
      "execution_count": null,
      "outputs": [
        {
          "output_type": "execute_result",
          "data": {
            "text/plain": [
              "array([[6, 0, 8, 1, 0],\n",
              "       [5, 3, 6, 6, 3],\n",
              "       [8, 0, 8, 4, 4],\n",
              "       [7, 8, 0, 1, 8],\n",
              "       [4, 6, 5, 8, 6]])"
            ]
          },
          "metadata": {},
          "execution_count": 3
        }
      ]
    },
    {
      "cell_type": "code",
      "source": [
        "tensor1 = torch.tensor(np1)\n",
        "tensor1"
      ],
      "metadata": {
        "colab": {
          "base_uri": "https://localhost:8080/"
        },
        "id": "aMPv1Mlhwuu8",
        "outputId": "e5648649-3c85-4961-c9ab-ff543b0b5363"
      },
      "execution_count": null,
      "outputs": [
        {
          "output_type": "execute_result",
          "data": {
            "text/plain": [
              "tensor([[6, 0, 8, 1, 0],\n",
              "        [5, 3, 6, 6, 3],\n",
              "        [8, 0, 8, 4, 4],\n",
              "        [7, 8, 0, 1, 8],\n",
              "        [4, 6, 5, 8, 6]])"
            ]
          },
          "metadata": {},
          "execution_count": 4
        }
      ]
    },
    {
      "cell_type": "code",
      "source": [
        "tensor2 = torch.arange(10)\n",
        "tensor2"
      ],
      "metadata": {
        "colab": {
          "base_uri": "https://localhost:8080/"
        },
        "id": "v7jfH0ruxEuH",
        "outputId": "bfc32203-0d7d-4e9d-e4bf-612200a77a3c"
      },
      "execution_count": null,
      "outputs": [
        {
          "output_type": "execute_result",
          "data": {
            "text/plain": [
              "tensor([0, 1, 2, 3, 4, 5, 6, 7, 8, 9])"
            ]
          },
          "metadata": {},
          "execution_count": 5
        }
      ]
    },
    {
      "cell_type": "code",
      "source": [
        "tensor2.reshape(2,5)"
      ],
      "metadata": {
        "colab": {
          "base_uri": "https://localhost:8080/"
        },
        "id": "Ck2_FlisxE8p",
        "outputId": "66a743cd-a530-49c9-92d9-ed85b76dbdc4"
      },
      "execution_count": null,
      "outputs": [
        {
          "output_type": "execute_result",
          "data": {
            "text/plain": [
              "tensor([[0, 1, 2, 3, 4],\n",
              "        [5, 6, 7, 8, 9]])"
            ]
          },
          "metadata": {},
          "execution_count": 6
        }
      ]
    },
    {
      "cell_type": "code",
      "source": [
        "tensorA=torch.tensor([1,2,3,4])\n",
        "tensorB=torch.tensor([5,6,7,8])"
      ],
      "metadata": {
        "id": "HMPbLXA7xFQt"
      },
      "execution_count": null,
      "outputs": []
    },
    {
      "cell_type": "code",
      "source": [
        "tensorC = tensorA + tensorB"
      ],
      "metadata": {
        "id": "AMvzDlyFxFYW"
      },
      "execution_count": null,
      "outputs": []
    },
    {
      "cell_type": "code",
      "source": [
        "torch.add(tensorC,tensorA)"
      ],
      "metadata": {
        "colab": {
          "base_uri": "https://localhost:8080/"
        },
        "id": "mpXx0AaDxFc2",
        "outputId": "9326ad24-0e1a-463a-dd10-5da3a2d8b04a"
      },
      "execution_count": null,
      "outputs": [
        {
          "output_type": "execute_result",
          "data": {
            "text/plain": [
              "tensor([ 7, 10, 13, 16])"
            ]
          },
          "metadata": {},
          "execution_count": 11
        }
      ]
    },
    {
      "cell_type": "code",
      "source": [],
      "metadata": {
        "id": "nmqTHXL74lg1"
      },
      "execution_count": null,
      "outputs": []
    },
    {
      "cell_type": "code",
      "source": [],
      "metadata": {
        "id": "w_tN-5pe4lmE"
      },
      "execution_count": null,
      "outputs": []
    }
  ]
}