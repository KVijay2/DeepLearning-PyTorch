{
  "nbformat": 4,
  "nbformat_minor": 0,
  "metadata": {
    "colab": {
      "provenance": [],
      "toc_visible": true,
      "authorship_tag": "ABX9TyN36gbPAUHpHDqmw8n1jItu",
      "include_colab_link": true
    },
    "kernelspec": {
      "name": "python3",
      "display_name": "Python 3"
    },
    "language_info": {
      "name": "python"
    }
  },
  "cells": [
    {
      "cell_type": "markdown",
      "metadata": {
        "id": "view-in-github",
        "colab_type": "text"
      },
      "source": [
        "<a href=\"https://colab.research.google.com/github/KVijay2/DeepLearning-PyTorch/blob/main/CNN.ipynb\" target=\"_parent\"><img src=\"https://colab.research.google.com/assets/colab-badge.svg\" alt=\"Open In Colab\"/></a>"
      ]
    },
    {
      "cell_type": "code",
      "execution_count": 1,
      "metadata": {
        "id": "-UlnDzGdwwj4"
      },
      "outputs": [],
      "source": [
        "import torch\n",
        "import torch.nn as nn\n",
        "import torch.nn.functional as F\n",
        "from torch.utils.data import DataLoader\n",
        "from torchvision import datasets, transforms\n",
        "from torchvision.utils import make_grid\n",
        "\n",
        "import pandas as pd\n",
        "import numpy as np\n",
        "import matplotlib.pyplot as plt\n",
        "from sklearn.metrics import confusion_matrix\n",
        "%matplotlib inline\n"
      ]
    },
    {
      "cell_type": "code",
      "source": [
        "transform = transforms.ToTensor()\n",
        "train_data = datasets.MNIST(root='/cnn_data', train=True, download=True, transform=transform)\n",
        "\n",
        "train_data"
      ],
      "metadata": {
        "colab": {
          "base_uri": "https://localhost:8080/"
        },
        "id": "fwisNl2LyV24",
        "outputId": "6c457208-bb2f-43fa-c90c-e0797214fb3c"
      },
      "execution_count": 2,
      "outputs": [
        {
          "output_type": "execute_result",
          "data": {
            "text/plain": [
              "Dataset MNIST\n",
              "    Number of datapoints: 60000\n",
              "    Root location: /cnn_data\n",
              "    Split: Train\n",
              "    StandardTransform\n",
              "Transform: ToTensor()"
            ]
          },
          "metadata": {},
          "execution_count": 2
        }
      ]
    },
    {
      "cell_type": "code",
      "source": [
        "test_data = datasets.MNIST(root='/cnn_data', train=False, download=True, transform=transform)\n",
        "test_data"
      ],
      "metadata": {
        "colab": {
          "base_uri": "https://localhost:8080/"
        },
        "id": "8qX_3OCuyWan",
        "outputId": "2a2b00d3-b11c-4a9d-84a2-03b18ac82aca"
      },
      "execution_count": 3,
      "outputs": [
        {
          "output_type": "execute_result",
          "data": {
            "text/plain": [
              "Dataset MNIST\n",
              "    Number of datapoints: 10000\n",
              "    Root location: /cnn_data\n",
              "    Split: Test\n",
              "    StandardTransform\n",
              "Transform: ToTensor()"
            ]
          },
          "metadata": {},
          "execution_count": 3
        }
      ]
    },
    {
      "cell_type": "code",
      "source": [
        "train_loader = DataLoader(train_data, batch_size=10, shuffle=True)\n",
        "test_loader = DataLoader(test_data, batch_size=10, shuffle=False)\n",
        "\n",
        "conv1 = nn.Conv2d(1, 6, 3, 1)\n",
        "conv2 = nn.Conv2d(6, 16, 3, 1)\n",
        "\n",
        "for i, (X_Train, y_train) in enumerate(train_data):\n",
        "  break\n",
        "\n",
        "X_Train.shape"
      ],
      "metadata": {
        "colab": {
          "base_uri": "https://localhost:8080/"
        },
        "id": "ZTnMFC0LyXDV",
        "outputId": "ddd778a1-cfe5-41ca-b4ec-f596a28a4337"
      },
      "execution_count": 4,
      "outputs": [
        {
          "output_type": "execute_result",
          "data": {
            "text/plain": [
              "torch.Size([1, 28, 28])"
            ]
          },
          "metadata": {},
          "execution_count": 4
        }
      ]
    },
    {
      "cell_type": "code",
      "source": [
        "x = X_Train.view(1,1,28,28)\n",
        "\n",
        "x = F.relu(conv1(x))\n",
        "x.shape"
      ],
      "metadata": {
        "colab": {
          "base_uri": "https://localhost:8080/"
        },
        "id": "rF2ILt7NyXJu",
        "outputId": "fd63eac7-f8eb-42a7-89b9-90be71b72ce4"
      },
      "execution_count": 5,
      "outputs": [
        {
          "output_type": "execute_result",
          "data": {
            "text/plain": [
              "torch.Size([1, 6, 26, 26])"
            ]
          },
          "metadata": {},
          "execution_count": 5
        }
      ]
    },
    {
      "cell_type": "code",
      "source": [
        "x = F.max_pool2d(x,2,2)\n",
        "x.shape"
      ],
      "metadata": {
        "colab": {
          "base_uri": "https://localhost:8080/"
        },
        "id": "O_FGWeaDzF5k",
        "outputId": "fe67864a-3743-4232-f609-280a488cb5bb"
      },
      "execution_count": 6,
      "outputs": [
        {
          "output_type": "execute_result",
          "data": {
            "text/plain": [
              "torch.Size([1, 6, 13, 13])"
            ]
          },
          "metadata": {},
          "execution_count": 6
        }
      ]
    },
    {
      "cell_type": "code",
      "source": [
        "x = F.relu(conv2(x))\n",
        "x.shape"
      ],
      "metadata": {
        "colab": {
          "base_uri": "https://localhost:8080/"
        },
        "id": "wXdLiVx3zGCi",
        "outputId": "0b522f54-1b07-4fff-9763-504495a948b5"
      },
      "execution_count": 7,
      "outputs": [
        {
          "output_type": "execute_result",
          "data": {
            "text/plain": [
              "torch.Size([1, 16, 11, 11])"
            ]
          },
          "metadata": {},
          "execution_count": 7
        }
      ]
    },
    {
      "cell_type": "code",
      "source": [
        "x = F.max_pool2d(x,2,2)\n",
        "x.shape"
      ],
      "metadata": {
        "colab": {
          "base_uri": "https://localhost:8080/"
        },
        "id": "aI9hh9MqzGMY",
        "outputId": "b6085fb8-3091-4fe7-fb04-62fcb45cb45e"
      },
      "execution_count": 8,
      "outputs": [
        {
          "output_type": "execute_result",
          "data": {
            "text/plain": [
              "torch.Size([1, 16, 5, 5])"
            ]
          },
          "metadata": {},
          "execution_count": 8
        }
      ]
    },
    {
      "cell_type": "code",
      "source": [
        "((28-2) / 2 - 2) / 2"
      ],
      "metadata": {
        "colab": {
          "base_uri": "https://localhost:8080/"
        },
        "id": "hyHpmnidzrhN",
        "outputId": "e3b2c84b-db6d-484c-c0eb-6daa9d348f63"
      },
      "execution_count": 9,
      "outputs": [
        {
          "output_type": "execute_result",
          "data": {
            "text/plain": [
              "5.5"
            ]
          },
          "metadata": {},
          "execution_count": 9
        }
      ]
    },
    {
      "cell_type": "code",
      "source": [
        "\n",
        "# Model Class\n",
        "class ConvolutionalNetwork(nn.Module):\n",
        "  def __init__(self):\n",
        "    super().__init__()\n",
        "    self.conv1 = nn.Conv2d(1,6,3,1)\n",
        "    self.conv2 = nn.Conv2d(6,16,3,1)\n",
        "    # Fully Connected Layer\n",
        "    self.fc1 = nn.Linear(5*5*16, 120)\n",
        "    self.fc2 = nn.Linear(120, 84)\n",
        "    self.fc3 = nn.Linear(84, 10)\n",
        "\n",
        "  def forward(self, X):\n",
        "    X = F.relu(self.conv1(X))\n",
        "    X = F.max_pool2d(X,2,2) # 2x2 kernal and stride 2\n",
        "    # Second Pass\n",
        "    X = F.relu(self.conv2(X))\n",
        "    X = F.max_pool2d(X,2,2) # 2x2 kernal and stride 2\n",
        "\n",
        "    # Re-View to flatten it out\n",
        "    X = X.view(-1, 16*5*5) # negative one so that we can vary the batch size\n",
        "\n",
        "    # Fully Connected Layers\n",
        "    X = F.relu(self.fc1(X))\n",
        "    X = F.relu(self.fc2(X))\n",
        "    X = self.fc3(X)\n",
        "    return F.log_softmax(X, dim=1)"
      ],
      "metadata": {
        "id": "SRIi2QFhzrnY"
      },
      "execution_count": 10,
      "outputs": []
    },
    {
      "cell_type": "code",
      "source": [
        "torch.manual_seed(41)\n",
        "model = ConvolutionalNetwork()\n",
        "model"
      ],
      "metadata": {
        "colab": {
          "base_uri": "https://localhost:8080/"
        },
        "id": "T6-rY6MNzwIt",
        "outputId": "b6395ba5-6b5c-4c81-f814-1a126765725a"
      },
      "execution_count": 11,
      "outputs": [
        {
          "output_type": "execute_result",
          "data": {
            "text/plain": [
              "ConvolutionalNetwork(\n",
              "  (conv1): Conv2d(1, 6, kernel_size=(3, 3), stride=(1, 1))\n",
              "  (conv2): Conv2d(6, 16, kernel_size=(3, 3), stride=(1, 1))\n",
              "  (fc1): Linear(in_features=400, out_features=120, bias=True)\n",
              "  (fc2): Linear(in_features=120, out_features=84, bias=True)\n",
              "  (fc3): Linear(in_features=84, out_features=10, bias=True)\n",
              ")"
            ]
          },
          "metadata": {},
          "execution_count": 11
        }
      ]
    },
    {
      "cell_type": "code",
      "source": [
        "criterion = nn.CrossEntropyLoss()\n",
        "optimizer = torch.optim.Adam(model.parameters(), lr=0.001)"
      ],
      "metadata": {
        "id": "5_vBHhpuzwOy"
      },
      "execution_count": 12,
      "outputs": []
    },
    {
      "cell_type": "code",
      "source": [
        "import time\n",
        "start_time = time.time()\n",
        "\n",
        "# Create Variables To Tracks Things\n",
        "epochs = 5\n",
        "train_losses = []\n",
        "test_losses = []\n",
        "train_correct = []\n",
        "test_correct = []\n",
        "\n",
        "# For Loop of Epochs\n",
        "for i in range(epochs):\n",
        "  trn_corr = 0\n",
        "  tst_corr = 0\n",
        "\n",
        "\n",
        "  # Train\n",
        "  for b,(X_train, y_train) in enumerate(train_loader):\n",
        "    b+=1 # start our batches at 1\n",
        "    y_pred = model(X_train) # get predicted values from the training set. Not flattened 2D\n",
        "    loss = criterion(y_pred, y_train) # how off are we? Compare the predictions to correct answers in y_train\n",
        "\n",
        "    predicted = torch.max(y_pred.data, 1)[1] # add up the number of correct predictions. Indexed off the first point\n",
        "    batch_corr = (predicted == y_train).sum() # how many we got correct from this batch. True = 1, False=0, sum those up\n",
        "    trn_corr += batch_corr # keep track as we go along in training.\n",
        "\n",
        "    # Update our parameters\n",
        "    optimizer.zero_grad()\n",
        "    loss.backward()\n",
        "    optimizer.step()\n",
        "\n",
        "\n",
        "    # Print out some results\n",
        "    if b%600 == 0:\n",
        "      print(f'Epoch: {i}  Batch: {b}  Loss: {loss.item()}')\n",
        "\n",
        "  train_losses.append(loss)\n",
        "  train_correct.append(trn_corr)\n",
        "\n",
        "  # Test\n",
        "  with torch.no_grad(): #No gradient so we don't update our weights and biases with test data\n",
        "    for b,(X_test, y_test) in enumerate(test_loader):\n",
        "      y_val = model(X_test)\n",
        "      predicted = torch.max(y_val.data, 1)[1] # Adding up correct predictions\n",
        "      tst_corr += (predicted == y_test).sum() # T=1 F=0 and sum away\n",
        "\n",
        "\n",
        "  loss = criterion(y_val, y_test)\n",
        "  test_losses.append(loss)\n",
        "  test_correct.append(tst_corr)\n",
        "\n",
        "\n",
        "\n",
        "current_time = time.time()\n",
        "total = current_time - start_time\n",
        "print(f'Training Took: {total/60} minutes!')\n",
        ""
      ],
      "metadata": {
        "colab": {
          "base_uri": "https://localhost:8080/"
        },
        "id": "_9QNq9w_z896",
        "outputId": "f86c4c0f-316e-45fb-a1d1-ac1efd35544a"
      },
      "execution_count": 13,
      "outputs": [
        {
          "output_type": "stream",
          "name": "stdout",
          "text": [
            "Epoch: 0  Batch: 600  Loss: 0.1623624861240387\n",
            "Epoch: 0  Batch: 1200  Loss: 0.1641543209552765\n",
            "Epoch: 0  Batch: 1800  Loss: 0.5098981857299805\n",
            "Epoch: 0  Batch: 2400  Loss: 0.1306418627500534\n",
            "Epoch: 0  Batch: 3000  Loss: 0.005703817121684551\n",
            "Epoch: 0  Batch: 3600  Loss: 0.46332210302352905\n",
            "Epoch: 0  Batch: 4200  Loss: 0.004197881557047367\n",
            "Epoch: 0  Batch: 4800  Loss: 0.0018000779673457146\n",
            "Epoch: 0  Batch: 5400  Loss: 0.07375213503837585\n",
            "Epoch: 0  Batch: 6000  Loss: 0.0003859388525597751\n",
            "Epoch: 1  Batch: 600  Loss: 0.004290326032787561\n",
            "Epoch: 1  Batch: 1200  Loss: 0.2521086633205414\n",
            "Epoch: 1  Batch: 1800  Loss: 0.002427826402708888\n",
            "Epoch: 1  Batch: 2400  Loss: 0.0021776421926915646\n",
            "Epoch: 1  Batch: 3000  Loss: 0.02223074808716774\n",
            "Epoch: 1  Batch: 3600  Loss: 0.6111965179443359\n",
            "Epoch: 1  Batch: 4200  Loss: 0.016707444563508034\n",
            "Epoch: 1  Batch: 4800  Loss: 0.0006908098584972322\n",
            "Epoch: 1  Batch: 5400  Loss: 0.0002799260546453297\n",
            "Epoch: 1  Batch: 6000  Loss: 0.4848875403404236\n",
            "Epoch: 2  Batch: 600  Loss: 0.03840283304452896\n",
            "Epoch: 2  Batch: 1200  Loss: 0.005653898231685162\n",
            "Epoch: 2  Batch: 1800  Loss: 0.0019390363013371825\n",
            "Epoch: 2  Batch: 2400  Loss: 0.013562331907451153\n",
            "Epoch: 2  Batch: 3000  Loss: 0.004443833604454994\n",
            "Epoch: 2  Batch: 3600  Loss: 0.0005063370917923748\n",
            "Epoch: 2  Batch: 4200  Loss: 0.04586367309093475\n",
            "Epoch: 2  Batch: 4800  Loss: 0.006673174444586039\n",
            "Epoch: 2  Batch: 5400  Loss: 0.02076614275574684\n",
            "Epoch: 2  Batch: 6000  Loss: 0.13829907774925232\n",
            "Epoch: 3  Batch: 600  Loss: 0.0021926886402070522\n",
            "Epoch: 3  Batch: 1200  Loss: 0.10718250274658203\n",
            "Epoch: 3  Batch: 1800  Loss: 0.0005934062064625323\n",
            "Epoch: 3  Batch: 2400  Loss: 0.00016517048061359674\n",
            "Epoch: 3  Batch: 3000  Loss: 0.0017503199633210897\n",
            "Epoch: 3  Batch: 3600  Loss: 0.0007489544805139303\n",
            "Epoch: 3  Batch: 4200  Loss: 0.01164452824741602\n",
            "Epoch: 3  Batch: 4800  Loss: 7.926556281745434e-05\n",
            "Epoch: 3  Batch: 5400  Loss: 0.039218269288539886\n",
            "Epoch: 3  Batch: 6000  Loss: 0.012269356288015842\n",
            "Epoch: 4  Batch: 600  Loss: 0.019970223307609558\n",
            "Epoch: 4  Batch: 1200  Loss: 0.031921446323394775\n",
            "Epoch: 4  Batch: 1800  Loss: 0.2468046396970749\n",
            "Epoch: 4  Batch: 2400  Loss: 0.00011870403250213712\n",
            "Epoch: 4  Batch: 3000  Loss: 0.0005112775252200663\n",
            "Epoch: 4  Batch: 3600  Loss: 0.00011618930147960782\n",
            "Epoch: 4  Batch: 4200  Loss: 0.00035029969876632094\n",
            "Epoch: 4  Batch: 4800  Loss: 0.04948687180876732\n",
            "Epoch: 4  Batch: 5400  Loss: 0.03161567822098732\n",
            "Epoch: 4  Batch: 6000  Loss: 0.0017111159395426512\n",
            "Training Took: 3.6637163321177164 minutes!\n"
          ]
        }
      ]
    }
  ]
}